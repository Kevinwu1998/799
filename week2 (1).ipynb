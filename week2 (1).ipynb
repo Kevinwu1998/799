{
 "cells": [
  {
   "cell_type": "markdown",
   "id": "a3c0ed9a-4edc-492e-a2db-f2be89cca38d",
   "metadata": {},
   "source": [
    "# Week 2 - Linear Regression 2"
   ]
  },
  {
   "cell_type": "code",
   "execution_count": 1,
   "id": "c9405192",
   "metadata": {},
   "outputs": [],
   "source": [
    "#pip install kaggle"
   ]
  },
  {
   "cell_type": "code",
   "execution_count": 2,
   "id": "4d22c7e7",
   "metadata": {},
   "outputs": [
    {
     "name": "stdout",
     "output_type": "stream",
     "text": [
      "Dataset URL: https://www.kaggle.com/datasets/ahmedshahriarsakib/usa-real-estate-dataset\n",
      "License(s): other\n",
      "Downloading usa-real-estate-dataset.zip to /workspaces/699\n",
      "  0%|                                               | 0.00/38.2M [00:00<?, ?B/s]\n",
      "100%|██████████████████████████████████████| 38.2M/38.2M [00:00<00:00, 1.14GB/s]\n",
      "Archive:  usa-real-estate-dataset.zip\n",
      "  inflating: usa_real_estate/realtor-data.zip.csv  \n"
     ]
    }
   ],
   "source": [
    "import os\n",
    "import json\n",
    "\n",
    "# Replace this with the content of your kaggle.json\n",
    "kaggle_token = {\n",
    "    \"username\": \"your_kaggle_username\",\n",
    "    \"key\": \"your_kaggle_api_key\"\n",
    "}\n",
    "\n",
    "os.makedirs(os.path.expanduser(\"~/.kaggle\"), exist_ok=True)\n",
    "with open(os.path.expanduser(\"~/.kaggle/kaggle.json\"), \"w\") as f:\n",
    "    json.dump(kaggle_token, f)\n",
    "\n",
    "os.chmod(os.path.expanduser(\"~/.kaggle/kaggle.json\"), 0o600)\n",
    "import os\n",
    "\n",
    "# Make sure your kaggle.json is correctly set up\n",
    "os.environ['KAGGLE_CONFIG_DIR'] = os.path.expanduser(\"~/.kaggle\")\n",
    "\n",
    "# Download the dataset\n",
    "!kaggle datasets download -d ahmedshahriarsakib/usa-real-estate-dataset\n",
    "\n",
    "# Unzip the dataset\n",
    "!unzip -o usa-real-estate-dataset.zip -d usa_real_estate\n",
    "\n"
   ]
  },
  {
   "cell_type": "code",
   "execution_count": 3,
   "id": "43ee1a23",
   "metadata": {},
   "outputs": [
    {
     "name": "stdout",
     "output_type": "stream",
     "text": [
      "   brokered_by    status     price  bed  bath  acre_lot     street  \\\n",
      "0     103378.0  for_sale  105000.0  3.0   2.0      0.12  1962661.0   \n",
      "1      52707.0  for_sale   80000.0  4.0   2.0      0.08  1902874.0   \n",
      "2     103379.0  for_sale   67000.0  2.0   1.0      0.15  1404990.0   \n",
      "3      31239.0  for_sale  145000.0  4.0   2.0      0.10  1947675.0   \n",
      "4      34632.0  for_sale   65000.0  6.0   2.0      0.05   331151.0   \n",
      "\n",
      "         city        state  zip_code  house_size prev_sold_date  \n",
      "0    Adjuntas  Puerto Rico     601.0       920.0            NaN  \n",
      "1    Adjuntas  Puerto Rico     601.0      1527.0            NaN  \n",
      "2  Juana Diaz  Puerto Rico     795.0       748.0            NaN  \n",
      "3       Ponce  Puerto Rico     731.0      1800.0            NaN  \n",
      "4    Mayaguez  Puerto Rico     680.0         NaN            NaN  \n"
     ]
    }
   ],
   "source": [
    "import pandas as pd\n",
    "\n",
    "df = pd.read_csv('usa_real_estate/realtor-data.zip.csv')  \n",
    "print(df.head())"
   ]
  },
  {
   "cell_type": "code",
   "execution_count": 4,
   "id": "b74edcee",
   "metadata": {},
   "outputs": [
    {
     "data": {
      "text/html": [
       "<div>\n",
       "<style scoped>\n",
       "    .dataframe tbody tr th:only-of-type {\n",
       "        vertical-align: middle;\n",
       "    }\n",
       "\n",
       "    .dataframe tbody tr th {\n",
       "        vertical-align: top;\n",
       "    }\n",
       "\n",
       "    .dataframe thead th {\n",
       "        text-align: right;\n",
       "    }\n",
       "</style>\n",
       "<table border=\"1\" class=\"dataframe\">\n",
       "  <thead>\n",
       "    <tr style=\"text-align: right;\">\n",
       "      <th></th>\n",
       "      <th>price</th>\n",
       "      <th>bed</th>\n",
       "      <th>bath</th>\n",
       "      <th>acre_lot</th>\n",
       "      <th>house_size</th>\n",
       "    </tr>\n",
       "  </thead>\n",
       "  <tbody>\n",
       "    <tr>\n",
       "      <th>1119516</th>\n",
       "      <td>500000.0</td>\n",
       "      <td>3.0</td>\n",
       "      <td>2.0</td>\n",
       "      <td>0.16</td>\n",
       "      <td>1320.0</td>\n",
       "    </tr>\n",
       "    <tr>\n",
       "      <th>1119518</th>\n",
       "      <td>650000.0</td>\n",
       "      <td>2.0</td>\n",
       "      <td>2.0</td>\n",
       "      <td>0.09</td>\n",
       "      <td>870.0</td>\n",
       "    </tr>\n",
       "    <tr>\n",
       "      <th>1119522</th>\n",
       "      <td>350000.0</td>\n",
       "      <td>2.0</td>\n",
       "      <td>1.0</td>\n",
       "      <td>0.03</td>\n",
       "      <td>873.0</td>\n",
       "    </tr>\n",
       "    <tr>\n",
       "      <th>1119523</th>\n",
       "      <td>1345000.0</td>\n",
       "      <td>4.0</td>\n",
       "      <td>4.0</td>\n",
       "      <td>0.36</td>\n",
       "      <td>3496.0</td>\n",
       "    </tr>\n",
       "    <tr>\n",
       "      <th>1119524</th>\n",
       "      <td>599000.0</td>\n",
       "      <td>3.0</td>\n",
       "      <td>2.0</td>\n",
       "      <td>0.16</td>\n",
       "      <td>1484.0</td>\n",
       "    </tr>\n",
       "    <tr>\n",
       "      <th>...</th>\n",
       "      <td>...</td>\n",
       "      <td>...</td>\n",
       "      <td>...</td>\n",
       "      <td>...</td>\n",
       "      <td>...</td>\n",
       "    </tr>\n",
       "    <tr>\n",
       "      <th>1991922</th>\n",
       "      <td>559000.0</td>\n",
       "      <td>6.0</td>\n",
       "      <td>4.0</td>\n",
       "      <td>0.36</td>\n",
       "      <td>2927.0</td>\n",
       "    </tr>\n",
       "    <tr>\n",
       "      <th>1991923</th>\n",
       "      <td>579000.0</td>\n",
       "      <td>3.0</td>\n",
       "      <td>2.0</td>\n",
       "      <td>0.22</td>\n",
       "      <td>1465.0</td>\n",
       "    </tr>\n",
       "    <tr>\n",
       "      <th>1991924</th>\n",
       "      <td>830000.0</td>\n",
       "      <td>4.0</td>\n",
       "      <td>3.0</td>\n",
       "      <td>0.21</td>\n",
       "      <td>3220.0</td>\n",
       "    </tr>\n",
       "    <tr>\n",
       "      <th>1991925</th>\n",
       "      <td>399900.0</td>\n",
       "      <td>3.0</td>\n",
       "      <td>2.0</td>\n",
       "      <td>0.18</td>\n",
       "      <td>1505.0</td>\n",
       "    </tr>\n",
       "    <tr>\n",
       "      <th>1991926</th>\n",
       "      <td>2199000.0</td>\n",
       "      <td>4.0</td>\n",
       "      <td>5.0</td>\n",
       "      <td>1.00</td>\n",
       "      <td>4731.0</td>\n",
       "    </tr>\n",
       "  </tbody>\n",
       "</table>\n",
       "<p>1512 rows × 5 columns</p>\n",
       "</div>"
      ],
      "text/plain": [
       "             price  bed  bath  acre_lot  house_size\n",
       "1119516   500000.0  3.0   2.0      0.16      1320.0\n",
       "1119518   650000.0  2.0   2.0      0.09       870.0\n",
       "1119522   350000.0  2.0   1.0      0.03       873.0\n",
       "1119523  1345000.0  4.0   4.0      0.36      3496.0\n",
       "1119524   599000.0  3.0   2.0      0.16      1484.0\n",
       "...            ...  ...   ...       ...         ...\n",
       "1991922   559000.0  6.0   4.0      0.36      2927.0\n",
       "1991923   579000.0  3.0   2.0      0.22      1465.0\n",
       "1991924   830000.0  4.0   3.0      0.21      3220.0\n",
       "1991925   399900.0  3.0   2.0      0.18      1505.0\n",
       "1991926  2199000.0  4.0   5.0      1.00      4731.0\n",
       "\n",
       "[1512 rows x 5 columns]"
      ]
     },
     "execution_count": 4,
     "metadata": {},
     "output_type": "execute_result"
    }
   ],
   "source": [
    "austin_df = df[(df['city'] == 'Austin') & (df['state'] == 'Texas')]\n",
    "austin_df = austin_df[['price', 'bed', 'bath', 'acre_lot', 'house_size']].dropna()\n",
    "austin_df"
   ]
  },
  {
   "cell_type": "code",
   "execution_count": 5,
   "id": "75e51e70",
   "metadata": {},
   "outputs": [],
   "source": [
    "from sklearn.preprocessing import StandardScaler\n",
    "X = austin_df[['bed', 'bath', 'acre_lot', 'house_size']]\n",
    "y = austin_df['price']\n",
    "\n",
    "scaler = StandardScaler()\n",
    "X_scaled = scaler.fit_transform(X)"
   ]
  },
  {
   "cell_type": "markdown",
   "id": "eba0c3ae",
   "metadata": {},
   "source": [
    "Try Ridge Model"
   ]
  },
  {
   "cell_type": "code",
   "execution_count": 6,
   "id": "73606541",
   "metadata": {},
   "outputs": [
    {
     "data": {
      "text/plain": [
       "np.float64(0.529034417204002)"
      ]
     },
     "execution_count": 6,
     "metadata": {},
     "output_type": "execute_result"
    }
   ],
   "source": [
    "from sklearn.linear_model import Ridge, Lasso, ElasticNet\n",
    "from sklearn.model_selection import cross_val_score\n",
    "import numpy as np\n",
    "\n",
    "# Ridge Regression\n",
    "ridge = Ridge(alpha=1.0)\n",
    "ridge_score = np.mean(cross_val_score(ridge, X_scaled, y, scoring='r2', cv=5))\n",
    "ridge_score"
   ]
  },
  {
   "cell_type": "markdown",
   "id": "e7e9cfd5",
   "metadata": {},
   "source": [
    "In this analysis, I implemented Ridge Regression, a type of linear regression that includes L2 regularization to prevent overfitting. The model was trained to predict housing prices in Austin, Texas. The R² score of 0.5290 indicates that approximately 52.9% of the variance in housing prices is explained by the model.This suggests a moderate level of predictive power—the model captures general pricing trends but may miss other complex factors"
   ]
  },
  {
   "cell_type": "markdown",
   "id": "66ca9f12",
   "metadata": {},
   "source": [
    "Try Lasso"
   ]
  },
  {
   "cell_type": "code",
   "execution_count": 7,
   "id": "9fe9895f",
   "metadata": {},
   "outputs": [
    {
     "data": {
      "text/plain": [
       "np.float64(0.5285799559925718)"
      ]
     },
     "execution_count": 7,
     "metadata": {},
     "output_type": "execute_result"
    }
   ],
   "source": [
    "# Lasso Regression\n",
    "lasso = Lasso(alpha=0.1)\n",
    "lasso_score = np.mean(cross_val_score(lasso, X_scaled, y, scoring='r2', cv=5))\n",
    "lasso_score"
   ]
  },
  {
   "cell_type": "markdown",
   "id": "116ac067",
   "metadata": {},
   "source": [
    "In this analysis, I applied Lasso Regression, which extends linear regression with L1 regularization.The model achieved an R² score of 0.52857. This means that the model explains approximately 52.86% of the variability in housing prices. "
   ]
  },
  {
   "cell_type": "markdown",
   "id": "dc7fcab8",
   "metadata": {},
   "source": [
    "Try Elastic Net regression"
   ]
  },
  {
   "cell_type": "code",
   "execution_count": 8,
   "id": "dcb94d22",
   "metadata": {},
   "outputs": [
    {
     "data": {
      "text/plain": [
       "np.float64(0.5484837985529772)"
      ]
     },
     "execution_count": 8,
     "metadata": {},
     "output_type": "execute_result"
    }
   ],
   "source": [
    "# Elastic Net Regression\n",
    "elastic = ElasticNet(alpha=0.1, l1_ratio=0.5)\n",
    "elastic_score = np.mean(cross_val_score(elastic, X_scaled, y, scoring='r2', cv=5))\n",
    "elastic_score"
   ]
  },
  {
   "cell_type": "markdown",
   "id": "dce16dea",
   "metadata": {},
   "source": [
    "The Elastic Net regression model combines the strengths of Ridge (L2) and Lasso (L1) regularization by introducing a penalty that is a mix of both. The resulting R² score was 0.5484, indicating that approximately 54.84% of the variance in housing prices was explained by the model. This represents the highest predictive performance among the three regularized models tested (Ridge = 0.5290, Lasso = 0.5286)."
   ]
  },
  {
   "cell_type": "markdown",
   "id": "96cc38da",
   "metadata": {},
   "source": [
    "The results suggest that Elastic Net regression is the most suitable for this housing dataset, as it handles correlated predictors while offering improved prediction accuracy. "
   ]
  },
  {
   "cell_type": "code",
   "execution_count": null,
   "id": "7ea20e5a",
   "metadata": {},
   "outputs": [],
   "source": []
  }
 ],
 "metadata": {
  "kernelspec": {
   "display_name": "Python 3",
   "language": "python",
   "name": "python3"
  },
  "language_info": {
   "codemirror_mode": {
    "name": "ipython",
    "version": 3
   },
   "file_extension": ".py",
   "mimetype": "text/x-python",
   "name": "python",
   "nbconvert_exporter": "python",
   "pygments_lexer": "ipython3",
   "version": "3.12.1"
  }
 },
 "nbformat": 4,
 "nbformat_minor": 5
}
